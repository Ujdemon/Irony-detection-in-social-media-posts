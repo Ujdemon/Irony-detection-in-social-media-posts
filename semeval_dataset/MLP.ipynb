{
 "cells": [
  {
   "cell_type": "markdown",
   "metadata": {},
   "source": [
    "ELMO"
   ]
  },
  {
   "cell_type": "code",
   "execution_count": 1,
   "metadata": {},
   "outputs": [
    {
     "name": "stderr",
     "output_type": "stream",
     "text": [
      "Using TensorFlow backend.\n"
     ]
    },
    {
     "name": "stdout",
     "output_type": "stream",
     "text": [
      "Total Sample after cleaning :: 3817\n",
      "Classification Report \n",
      "              precision    recall  f1-score   support\n",
      "\n",
      "           0     0.5081    0.4642    0.4852       405\n",
      "           1     0.4492    0.4930    0.4701       359\n",
      "\n",
      "    accuracy                         0.4777       764\n",
      "   macro avg     0.4787    0.4786    0.4776       764\n",
      "weighted avg     0.4804    0.4777    0.4781       764\n",
      "\n"
     ]
    }
   ],
   "source": [
    "# Import our dependencies\n",
    "import tensorflow as tf\n",
    "import pandas as pd\n",
    "import tensorflow_hub as hub\n",
    "import os\n",
    "import re\n",
    "from keras import backend as K\n",
    "import keras.layers as layers\n",
    "from keras.models import Model, load_model\n",
    "from keras.callbacks import ModelCheckpoint, EarlyStopping\n",
    "from keras.optimizers import Adam\n",
    "from sklearn.metrics import classification_report, mean_squared_error, roc_auc_score\n",
    "from keras.engine import Layer\n",
    "import numpy as np\n",
    "\n",
    "from preprocessing import *\n",
    "from tweet_utils import *\n",
    "\n",
    "\n",
    "from  sklearn.model_selection import train_test_split\n",
    "from keras.preprocessing.text import Tokenizer\n",
    "\n",
    "# Initialize session\n",
    "config = tf.ConfigProto(gpu_options= tf.GPUOptions(allow_growth=True), allow_soft_placement=True)\n",
    "sess = tf.Session(config=config)\n",
    "K.set_session(sess)\n",
    "\n",
    "# Load all files from a directory in a DataFrame.\n",
    "\n",
    "class ElmoEmbeddingLayer(Layer):\n",
    "    def __init__(self, **kwargs):\n",
    "        self.dimensions = 1024\n",
    "        self.trainable=False\n",
    "        super(ElmoEmbeddingLayer, self).__init__(**kwargs)\n",
    "\n",
    "    def build(self, input_shape):\n",
    "        self.elmo = hub.Module('https://tfhub.dev/google/elmo/2', trainable=self.trainable,\n",
    "                               name=\"{}_module\".format(self.name))\n",
    "\n",
    "        self.trainable_weights += K.tf.trainable_variables(scope=\"^{}_module/.*\".format(self.name))\n",
    "        super(ElmoEmbeddingLayer, self).build(input_shape)\n",
    "\n",
    "    def call(self, x, mask=None):\n",
    "        result = self.elmo(K.squeeze(K.cast(x, tf.string), axis=1),\n",
    "                      as_dict=True,\n",
    "                      signature='default',\n",
    "                      )['default']\n",
    "        return result\n",
    "\n",
    "    def compute_mask(self, inputs, mask=None):\n",
    "        return K.not_equal(inputs, '--PAD--')\n",
    "\n",
    "    def compute_output_shape(self, input_shape):\n",
    "        return (input_shape[0], self.dimensions)\n",
    "\n",
    "\n",
    "\n",
    "# Build model\n",
    "def build_model(max_seq_length_post):\n",
    "    \n",
    "    in_id_post_enc = layers.Input(shape=(max_seq_length_post,), name=\"input_ids_post\")\n",
    "    # in_id_des_enc = layers.Input(shape=(max_seq_length_des,), name=\"input_ids_des\")\n",
    "\n",
    "    in_id_post = layers.Input(shape=(1,), dtype=\"string\")\n",
    "    # in_id_des = layers.Input(shape=(1,), dtype=\"string\")\n",
    "\n",
    "    post_embed = layers.Embedding(len(tknizer.word_index), 100, input_length=max_seq_length_post)(in_id_post_enc)\n",
    "    # des_embed = layers.Embedding(len(tknizer.word_index), 100, input_length=max_seq_length_des)(in_id_des_enc)\n",
    "    \n",
    "    post_lstm = layers.LSTM(300, dropout=0.2, recurrent_dropout=0.5)(post_embed)\n",
    "    # des_lstm = layers.LSTM(300, dropout=0.2, recurrent_dropout=0.5)(des_embed)\n",
    "    \n",
    "\n",
    "    elmo_output_post = ElmoEmbeddingLayer()(in_id_post)\n",
    "    # elmo_output_des = ElmoEmbeddingLayer()(in_id_des)\n",
    "    \n",
    "    cat_output_post = layers.concatenate([elmo_output_post, post_lstm], axis=-1)\n",
    "    # cat_output_des = layers.concatenate([elmo_output_des, des_lstm], axis=-1)\n",
    "\n",
    "    batched_output_post = layers.BatchNormalization()(cat_output_post)\n",
    "    # batched_output_des = layers.BatchNormalization()(cat_output_des)\n",
    "\n",
    "    dense_post = layers.Dense(256, activation='relu')(batched_output_post)\n",
    "\n",
    "    cat_output = layers.Dropout(0.3)(dense_post)\n",
    "\n",
    "    dense = layers.Dense(100, activation='relu')(cat_output)\n",
    "    pred = layers.Dense(1, activation='sigmoid')(dense)\n",
    "    \n",
    "    model = Model(inputs=[in_id_post, in_id_post_enc], outputs=pred)\n",
    "    print('Model Loaded')\n",
    "    return model\n",
    "\n",
    "\n",
    "\n",
    "\n",
    "\n",
    "df = pd.read_csv(\"SemEval2018-T3-train-taskA.txt\", sep='\\t')\n",
    "data = df.dropna(axis = 0, how ='any')\n",
    "\n",
    "print('Total Sample after cleaning ::', len(data))\n",
    "\n",
    "tweet_post = data['Tweet text'].tolist()\n",
    "# text_title1 = data['title'].tolist()\n",
    "label1 = data['Label'].tolist()\n",
    "\n",
    "\n",
    "\n",
    "from keras.preprocessing.sequence import pad_sequences\n",
    "from keras.preprocessing.text import Tokenizer\n",
    "import numpy as np\n",
    "\n",
    "def create_tokenizer(p):\n",
    "    tokenizer = Tokenizer()\n",
    "    tokenizer.fit_on_texts(p)\n",
    "    # tokenizer.fit_on_texts(t)\n",
    "    return tokenizer\n",
    "\n",
    "\n",
    "def preprocessed(tokenizer, docs, m_length):\n",
    "    X = tokenizer.texts_to_sequences(docs)\n",
    "    X = pad_sequences(X, padding='post', truncating='post', value = 0, maxlen=m_length)\n",
    "    return X\n",
    "\n",
    "\n",
    "def tweet_cl(df_list):\n",
    "    return [tweet_processor(t).lower() for t in df_list]\n",
    "\n",
    "tweet_post = tweet_cl(tweet_post)\n",
    "\n",
    "\n",
    "\n",
    "tknizer = create_tokenizer(tweet_post)\n",
    "\n",
    "post_max_seq_length = max([len(post.split()) for post in tweet_post])\n",
    "\n",
    "post_encoded = preprocessed(tknizer, tweet_post, post_max_seq_length)\n",
    "\n",
    "\n",
    "text_post = np.array(tweet_post, dtype=object)[:, np.newaxis]\n",
    "\n",
    "task_a_label_dict = {el:idx for idx, el in enumerate(data['Label'].unique())}\n",
    "\n",
    "\n",
    "label_conv1 = [task_a_label_dict[l] for l in label1]\n",
    "\n",
    "\n",
    "train_post_text, test_post_text = train_test_split(text_post, test_size=0.2, random_state=2019)\n",
    "train_labela, test_labela = train_test_split(label_conv1, test_size=0.2, random_state=2019)\n",
    "\n",
    "\n",
    "\n",
    "train_post_enc, test_post_enc = train_test_split(post_encoded, test_size=0.2, random_state=2019)\n",
    "\n",
    "\n",
    "\n",
    "from sklearn.neural_network import MLPClassifier\n",
    "\n",
    "classifier = MLPClassifier(hidden_layer_sizes=(5000,200,50), max_iter=500,activation = 'relu',solver='adam',random_state=1)\n",
    "classifier.fit(train_post_enc,train_labela)\n",
    "\n",
    "prediction_elmo = classifier.predict(test_post_enc)\n",
    "rep = classification_report(test_labela, prediction_elmo, digits=4)\n",
    "print('Classification Report \\n' +str(rep))"
   ]
  },
  {
   "cell_type": "code",
   "execution_count": 2,
   "metadata": {},
   "outputs": [
    {
     "name": "stdout",
     "output_type": "stream",
     "text": [
      "INFO:tensorflow:Saver not created because there are no variables in the graph to restore\n"
     ]
    },
    {
     "name": "stderr",
     "output_type": "stream",
     "text": [
      "INFO:tensorflow:Saver not created because there are no variables in the graph to restore\n"
     ]
    },
    {
     "name": "stdout",
     "output_type": "stream",
     "text": [
      "WARNING:tensorflow:From C:\\Users\\wwwuj\\Anaconda3\\lib\\site-packages\\bert\\tokenization.py:125: The name tf.gfile.GFile is deprecated. Please use tf.io.gfile.GFile instead.\n",
      "\n"
     ]
    },
    {
     "name": "stderr",
     "output_type": "stream",
     "text": [
      "WARNING:tensorflow:From C:\\Users\\wwwuj\\Anaconda3\\lib\\site-packages\\bert\\tokenization.py:125: The name tf.gfile.GFile is deprecated. Please use tf.io.gfile.GFile instead.\n",
      "\n"
     ]
    },
    {
     "name": "stdout",
     "output_type": "stream",
     "text": [
      "(30522, 100)\n"
     ]
    },
    {
     "data": {
      "application/vnd.jupyter.widget-view+json": {
       "model_id": "5eecf9b41a8342cb900a7979929fb648",
       "version_major": 2,
       "version_minor": 0
      },
      "text/plain": [
       "HBox(children=(IntProgress(value=0, description='Converting examples to features', max=3053, style=ProgressSty…"
      ]
     },
     "metadata": {},
     "output_type": "display_data"
    },
    {
     "name": "stdout",
     "output_type": "stream",
     "text": [
      "\n"
     ]
    },
    {
     "data": {
      "application/vnd.jupyter.widget-view+json": {
       "model_id": "50a82fd297084702a25ebe6012fd9dc4",
       "version_major": 2,
       "version_minor": 0
      },
      "text/plain": [
       "HBox(children=(IntProgress(value=0, description='Converting examples to features', max=764, style=ProgressStyl…"
      ]
     },
     "metadata": {},
     "output_type": "display_data"
    },
    {
     "name": "stdout",
     "output_type": "stream",
     "text": [
      "\n",
      "210\n",
      "\n",
      "WARNING:tensorflow:From C:\\Users\\wwwuj\\Anaconda3\\lib\\site-packages\\tensorflow\\python\\keras\\initializers.py:119: calling RandomUniform.__init__ (from tensorflow.python.ops.init_ops) with dtype is deprecated and will be removed in a future version.\n",
      "Instructions for updating:\n",
      "Call initializer instance with the dtype argument instead of passing it to the constructor\n"
     ]
    },
    {
     "name": "stderr",
     "output_type": "stream",
     "text": [
      "WARNING:tensorflow:From C:\\Users\\wwwuj\\Anaconda3\\lib\\site-packages\\tensorflow\\python\\keras\\initializers.py:119: calling RandomUniform.__init__ (from tensorflow.python.ops.init_ops) with dtype is deprecated and will be removed in a future version.\n",
      "Instructions for updating:\n",
      "Call initializer instance with the dtype argument instead of passing it to the constructor\n"
     ]
    },
    {
     "name": "stdout",
     "output_type": "stream",
     "text": [
      "WARNING:tensorflow:From C:\\Users\\wwwuj\\Anaconda3\\lib\\site-packages\\tensorflow\\python\\ops\\init_ops.py:1251: calling VarianceScaling.__init__ (from tensorflow.python.ops.init_ops) with dtype is deprecated and will be removed in a future version.\n",
      "Instructions for updating:\n",
      "Call initializer instance with the dtype argument instead of passing it to the constructor\n"
     ]
    },
    {
     "name": "stderr",
     "output_type": "stream",
     "text": [
      "WARNING:tensorflow:From C:\\Users\\wwwuj\\Anaconda3\\lib\\site-packages\\tensorflow\\python\\ops\\init_ops.py:1251: calling VarianceScaling.__init__ (from tensorflow.python.ops.init_ops) with dtype is deprecated and will be removed in a future version.\n",
      "Instructions for updating:\n",
      "Call initializer instance with the dtype argument instead of passing it to the constructor\n"
     ]
    },
    {
     "name": "stdout",
     "output_type": "stream",
     "text": [
      "WARNING:tensorflow:Entity <bound method BertLayer.call of <__main__.BertLayer object at 0x000001FD971FCA48>> could not be transformed and will be executed as-is. Please report this to the AutgoGraph team. When filing the bug, set the verbosity to 10 (on Linux, `export AUTOGRAPH_VERBOSITY=10`) and attach the full output. Cause: converting <bound method BertLayer.call of <__main__.BertLayer object at 0x000001FD971FCA48>>: AttributeError: module 'gast' has no attribute 'Num'\n"
     ]
    },
    {
     "name": "stderr",
     "output_type": "stream",
     "text": [
      "WARNING:tensorflow:Entity <bound method BertLayer.call of <__main__.BertLayer object at 0x000001FD971FCA48>> could not be transformed and will be executed as-is. Please report this to the AutgoGraph team. When filing the bug, set the verbosity to 10 (on Linux, `export AUTOGRAPH_VERBOSITY=10`) and attach the full output. Cause: converting <bound method BertLayer.call of <__main__.BertLayer object at 0x000001FD971FCA48>>: AttributeError: module 'gast' has no attribute 'Num'\n"
     ]
    },
    {
     "name": "stdout",
     "output_type": "stream",
     "text": [
      "WARNING: Entity <bound method BertLayer.call of <__main__.BertLayer object at 0x000001FD971FCA48>> could not be transformed and will be executed as-is. Please report this to the AutgoGraph team. When filing the bug, set the verbosity to 10 (on Linux, `export AUTOGRAPH_VERBOSITY=10`) and attach the full output. Cause: converting <bound method BertLayer.call of <__main__.BertLayer object at 0x000001FD971FCA48>>: AttributeError: module 'gast' has no attribute 'Num'\n",
      "INFO:tensorflow:Saver not created because there are no variables in the graph to restore\n"
     ]
    },
    {
     "name": "stderr",
     "output_type": "stream",
     "text": [
      "INFO:tensorflow:Saver not created because there are no variables in the graph to restore\n"
     ]
    },
    {
     "name": "stdout",
     "output_type": "stream",
     "text": [
      "Model Loaded\n",
      "Model: \"model\"\n",
      "__________________________________________________________________________________________________\n",
      "Layer (type)                    Output Shape         Param #     Connected to                     \n",
      "==================================================================================================\n",
      "input_ids_post (InputLayer)     [(None, 210)]        0                                            \n",
      "__________________________________________________________________________________________________\n",
      "input_masks_post (InputLayer)   [(None, 210)]        0                                            \n",
      "__________________________________________________________________________________________________\n",
      "segment_ids_post (InputLayer)   [(None, 210)]        0                                            \n",
      "__________________________________________________________________________________________________\n",
      "embedding (Embedding)           (None, 210, 100)     3052200     input_ids_post[0][0]             \n",
      "__________________________________________________________________________________________________\n",
      "bert_layer (BertLayer)          (None, 768)          110104890   input_ids_post[0][0]             \n",
      "                                                                 input_masks_post[0][0]           \n",
      "                                                                 segment_ids_post[0][0]           \n",
      "__________________________________________________________________________________________________\n",
      "lstm (LSTM)                     (None, 300)          481200      embedding[0][0]                  \n",
      "__________________________________________________________________________________________________\n",
      "concatenate (Concatenate)       (None, 1068)         0           bert_layer[0][0]                 \n",
      "                                                                 lstm[0][0]                       \n",
      "__________________________________________________________________________________________________\n",
      "batch_normalization (BatchNorma (None, 1068)         4272        concatenate[0][0]                \n",
      "__________________________________________________________________________________________________\n",
      "dense (Dense)                   (None, 256)          273664      batch_normalization[0][0]        \n",
      "__________________________________________________________________________________________________\n",
      "dense_1 (Dense)                 (None, 100)          25700       dense[0][0]                      \n",
      "__________________________________________________________________________________________________\n",
      "dense_2 (Dense)                 (None, 1)            101         dense_1[0][0]                    \n",
      "==================================================================================================\n",
      "Total params: 113,942,027\n",
      "Trainable params: 29,134,289\n",
      "Non-trainable params: 84,807,738\n",
      "__________________________________________________________________________________________________\n"
     ]
    }
   ],
   "source": [
    "import tensorflow as tf\n",
    "import pandas as pd\n",
    "import tensorflow_hub as hub\n",
    "import os\n",
    "import re\n",
    "import numpy as np\n",
    "from bert.tokenization import FullTokenizer\n",
    "from tqdm import tqdm_notebook\n",
    "from tensorflow.keras import backend as K\n",
    "from sklearn.metrics import classification_report, mean_squared_error, roc_auc_score\n",
    "\n",
    "import nltk\n",
    "from tweet_utils import *\n",
    "from preprocessing import *\n",
    "\n",
    "nltk_tokeniser = nltk.tokenize.TweetTokenizer()\n",
    "\n",
    "# Initialize session\n",
    "config = tf.ConfigProto(gpu_options= tf.GPUOptions(allow_growth=True), allow_soft_placement=True)\n",
    "sess = tf.Session(config=config)\n",
    "\n",
    "# Params for bert model and tokenization\n",
    "bert_path = \"https://tfhub.dev/google/bert_uncased_L-12_H-768_A-12/1\"\n",
    "\n",
    "\n",
    "\n",
    "df = pd.read_csv(\"SemEval2018-T3-train-taskA.txt\", sep='\\t')\n",
    "data = df.dropna(axis = 0, how ='any')\n",
    "\n",
    "text_post1 = data['Tweet text'].tolist()\n",
    "\n",
    "label = data['Label'].tolist()\n",
    "\n",
    "\n",
    "def tweet_cl(df_list):\n",
    "    return [tweet_processor(t).lower() for t in df_list]\n",
    "\n",
    "\n",
    "text_post1 = tweet_cl(text_post1)\n",
    "\n",
    "\n",
    "post_max_seq_length = max([len(post.split()) for post in text_post1])\n",
    "\n",
    "\n",
    "\n",
    "text_post = np.array(text_post1, dtype=object)[:, np.newaxis]\n",
    "\n",
    "\n",
    "class PaddingInputExample(object):\n",
    "    \"\"\"Fake example so the num input examples is a multiple of the batch size.\n",
    "  When running eval/predict on the TPU, we need to pad the number of examples\n",
    "  to be a multiple of the batch size, because the TPU requires a fixed batch\n",
    "  size. The alternative is to drop the last batch, which is bad because it means\n",
    "  the entire output data won't be generated.\n",
    "  We use this class instead of `None` because treating `None` as padding\n",
    "  battches could cause silent errors.\n",
    "  \"\"\"\n",
    "\n",
    "class InputExample(object):\n",
    "    \"\"\"A single training/test example for simple sequence classification.\"\"\"\n",
    "\n",
    "    def __init__(self, guid, text_a, text_b=None, label=None):\n",
    "        \"\"\"Constructs a InputExample.\n",
    "    Args:\n",
    "      guid: Unique id for the example.\n",
    "      text_a: string. The untokenized text of the first sequence. For single\n",
    "        sequence tasks, only this sequence must be specified.\n",
    "      text_b: (Optional) string. The untokenized text of the second sequence.\n",
    "        Only must be specified for sequence pair tasks.\n",
    "      label: (Optional) string. The label of the example. This should be\n",
    "        specified for train and dev examples, but not for test examples.\n",
    "    \"\"\"\n",
    "        self.guid = guid\n",
    "        self.text_a = text_a\n",
    "        self.text_b = text_b\n",
    "        self.label = label\n",
    "\n",
    "def create_tokenizer_from_hub_module():\n",
    "    \"\"\"Get the vocab file and casing info from the Hub module.\"\"\"\n",
    "    bert_module =  hub.Module(bert_path)\n",
    "    tokenization_info = bert_module(signature=\"tokenization_info\", as_dict=True)\n",
    "    vocab_file, do_lower_case = sess.run(\n",
    "        [\n",
    "            tokenization_info[\"vocab_file\"],\n",
    "            tokenization_info[\"do_lower_case\"],\n",
    "        ]\n",
    "    )\n",
    "\n",
    "    return FullTokenizer(vocab_file=vocab_file, do_lower_case=do_lower_case)\n",
    "\n",
    "def convert_single_example(tokenizer, example, max_seq_length=256):\n",
    "    \"\"\"Converts a single `InputExample` into a single `InputFeatures`.\"\"\"\n",
    "\n",
    "    if isinstance(example, PaddingInputExample):\n",
    "        input_ids = [0] * max_seq_length\n",
    "        input_mask = [0] * max_seq_length\n",
    "        segment_ids = [0] * max_seq_length\n",
    "        label = 0\n",
    "        return input_ids, input_mask, segment_ids, label\n",
    "\n",
    "    tokens_a = tokenizer.tokenize(example.text_a)\n",
    "    if len(tokens_a) > max_seq_length - 2:\n",
    "        tokens_a = tokens_a[0 : (max_seq_length - 2)]\n",
    "\n",
    "    tokens = []\n",
    "    segment_ids = []\n",
    "    tokens.append(\"[CLS]\")\n",
    "    segment_ids.append(0)\n",
    "    for token in tokens_a:\n",
    "        tokens.append(token)\n",
    "        segment_ids.append(0)\n",
    "    tokens.append(\"[SEP]\")\n",
    "    segment_ids.append(0)\n",
    "\n",
    "    input_ids = tokenizer.convert_tokens_to_ids(tokens)\n",
    "\n",
    "    # The mask has 1 for real tokens and 0 for padding tokens. Only real\n",
    "    # tokens are attended to.\n",
    "    input_mask = [1] * len(input_ids)\n",
    "\n",
    "    # Zero-pad up to the sequence length.\n",
    "    while len(input_ids) < max_seq_length:\n",
    "        input_ids.append(0)\n",
    "        input_mask.append(0)\n",
    "        segment_ids.append(0)\n",
    "\n",
    "    assert len(input_ids) == max_seq_length\n",
    "    assert len(input_mask) == max_seq_length\n",
    "    assert len(segment_ids) == max_seq_length\n",
    "\n",
    "    return input_ids, input_mask, segment_ids, example.label\n",
    "\n",
    "def convert_examples_to_features(tokenizer, examples, max_seq_length=256):\n",
    "    \"\"\"Convert a set of `InputExample`s to a list of `InputFeatures`.\"\"\"\n",
    "\n",
    "    input_ids, input_masks, segment_ids, labels = [], [], [], []\n",
    "    for example in tqdm_notebook(examples, desc=\"Converting examples to features\"):\n",
    "        input_id, input_mask, segment_id, label = convert_single_example(\n",
    "            tokenizer, example, max_seq_length\n",
    "        )\n",
    "        input_ids.append(input_id)\n",
    "        input_masks.append(input_mask)\n",
    "        segment_ids.append(segment_id)\n",
    "        labels.append(label)\n",
    "    return (\n",
    "        np.array(input_ids),\n",
    "        np.array(input_masks),\n",
    "        np.array(segment_ids),\n",
    "        np.array(labels).reshape(-1, 1),\n",
    "    )\n",
    "\n",
    "def convert_text_to_examples(texts, labels):\n",
    "    \"\"\"Create InputExamples\"\"\"\n",
    "    InputExamples = []\n",
    "    for text, label in zip(texts, labels):\n",
    "        InputExamples.append(\n",
    "            InputExample(guid=None, text_a=\" \".join(text), text_b=None, label=label)\n",
    "        )\n",
    "    return InputExamples\n",
    "\n",
    "\n",
    "# In[39]:\n",
    "\n",
    "\n",
    "# Instantiate tokenizer\n",
    "tokenizer = create_tokenizer_from_hub_module()\n",
    "\n",
    "def wordembedding(tokenizer):\n",
    "    # load the whole embedding into memory\n",
    "    embeddings_index = dict()\n",
    "    for line in open('glove.6B.100d.txt',encoding=\"utf-8\"):\n",
    "        values = line.split()\n",
    "        word = values[0]\n",
    "        coefs = np.asarray(values[1:], dtype='float32')\n",
    "        embeddings_index[word] = coefs\n",
    "\n",
    "    # create a weight matrix for words in training docs\n",
    "    embedding_matrix = np.zeros((len(tokenizer.vocab), 100))\n",
    "    for word, i in tokenizer.vocab.items():\n",
    "        embedding_vector = embeddings_index.get(word)\n",
    "        if embedding_vector is not None:\n",
    "            embedding_matrix[i] = embedding_vector\n",
    "\n",
    "    return embedding_matrix\n",
    "\n",
    "\n",
    "\n",
    "glove_word_embedding = wordembedding(tokenizer)\n",
    "print(glove_word_embedding.shape)\n",
    "\n",
    "from  sklearn.model_selection import train_test_split\n",
    "\n",
    "train_post_text, test_post_text = train_test_split(text_post, test_size=0.2, random_state=2019)\n",
    "\n",
    "train_label, test_label = train_test_split(label, test_size=0.2, random_state=2019)\n",
    "\n",
    "train_post_examples = convert_text_to_examples(train_post_text, train_label)\n",
    "\n",
    "\n",
    "test_post_examples = convert_text_to_examples(test_post_text, test_label)\n",
    "\n",
    "\n",
    "# Convert to features\n",
    "(train_input_ids_post, train_input_masks_post, train_segment_ids_post, train_labels_post) = convert_examples_to_features(tokenizer, train_post_examples, max_seq_length=post_max_seq_length)\n",
    "\n",
    "\n",
    "(test_input_ids_post, test_input_masks_post, test_segment_ids_post, test_labels_post) = convert_examples_to_features(tokenizer, test_post_examples, max_seq_length=post_max_seq_length)\n",
    "\n",
    "\n",
    "print(post_max_seq_length)\n",
    "\n",
    "print('')\n",
    "\n",
    "\n",
    "\n",
    "\n",
    "\n",
    "class BertLayer(tf.keras.layers.Layer):\n",
    "    def __init__(\n",
    "        self,\n",
    "        n_fine_tune_layers=10,\n",
    "        pooling=\"first\",\n",
    "        bert_path=\"https://tfhub.dev/google/bert_uncased_L-12_H-768_A-12/1\",\n",
    "        **kwargs,\n",
    "    ):\n",
    "        self.n_fine_tune_layers = n_fine_tune_layers\n",
    "        self.trainable = False\n",
    "        self.output_size = 768\n",
    "        self.pooling = pooling\n",
    "        self.bert_path = bert_path\n",
    "        if self.pooling not in [\"first\", \"mean\"]:\n",
    "            raise NameError(\n",
    "                f\"Undefined pooling type (must be either first or mean, but is {self.pooling}\"\n",
    "            )\n",
    "\n",
    "        super(BertLayer, self).__init__(**kwargs)\n",
    "\n",
    "    def build(self, input_shape):\n",
    "        self.bert = hub.Module(\n",
    "            self.bert_path, trainable=self.trainable, name=f\"{self.name}_module\"\n",
    "        )\n",
    "\n",
    "        # Remove unused layers\n",
    "        trainable_vars = self.bert.variables\n",
    "        if self.pooling == \"first\":\n",
    "            trainable_vars = [var for var in trainable_vars if not \"/cls/\" in var.name]\n",
    "            trainable_layers = [\"pooler/dense\"]\n",
    "\n",
    "        elif self.pooling == \"mean\":\n",
    "            trainable_vars = [\n",
    "                var\n",
    "                for var in trainable_vars\n",
    "                if not \"/cls/\" in var.name and not \"/pooler/\" in var.name\n",
    "            ]\n",
    "            trainable_layers = []\n",
    "        else:\n",
    "            raise NameError(\n",
    "                f\"Undefined pooling type (must be either first or mean, but is {self.pooling}\"\n",
    "            )\n",
    "\n",
    "        # Select how many layers to fine tune\n",
    "        for i in range(self.n_fine_tune_layers):\n",
    "            trainable_layers.append(f\"encoder/layer_{str(11 - i)}\")\n",
    "\n",
    "        # Update trainable vars to contain only the specified layers\n",
    "        trainable_vars = [\n",
    "            var\n",
    "            for var in trainable_vars\n",
    "            if any([l in var.name for l in trainable_layers])\n",
    "        ]\n",
    "\n",
    "        # Add to trainable weights\n",
    "        for var in trainable_vars:\n",
    "            self._trainable_weights.append(var)\n",
    "\n",
    "        for var in self.bert.variables:\n",
    "            if var not in self._trainable_weights:\n",
    "                self._non_trainable_weights.append(var)\n",
    "\n",
    "        super(BertLayer, self).build(input_shape)\n",
    "\n",
    "    def call(self, inputs):\n",
    "        inputs = [K.cast(x, dtype=\"int32\") for x in inputs]\n",
    "        input_ids, input_mask, segment_ids = inputs\n",
    "        bert_inputs = dict(\n",
    "            input_ids=input_ids, input_mask=input_mask, segment_ids=segment_ids\n",
    "        )\n",
    "        if self.pooling == \"first\":\n",
    "            pooled = self.bert(inputs=bert_inputs, signature=\"tokens\", as_dict=True)[\n",
    "                \"pooled_output\"\n",
    "            ]\n",
    "        elif self.pooling == \"mean\":\n",
    "            result = self.bert(inputs=bert_inputs, signature=\"tokens\", as_dict=True)[\n",
    "                \"sequence_output\"\n",
    "            ]\n",
    "\n",
    "            mul_mask = lambda x, m: x * tf.expand_dims(m, axis=-1)\n",
    "            masked_reduce_mean = lambda x, m: tf.reduce_sum(mul_mask(x, m), axis=1) / (\n",
    "                    tf.reduce_sum(m, axis=1, keepdims=True) + 1e-10)\n",
    "            input_mask = tf.cast(input_mask, tf.float32)\n",
    "            pooled = masked_reduce_mean(result, input_mask)\n",
    "        else:\n",
    "            raise NameError(f\"Undefined pooling type (must be either first or mean, but is {self.pooling}\")\n",
    "\n",
    "        return pooled\n",
    "\n",
    "    def compute_output_shape(self, input_shape):\n",
    "        return (input_shape[0], self.output_size)\n",
    "\n",
    "\n",
    "# In[44]:\n",
    "\n",
    "\n",
    "# Build model\n",
    "def build_model(max_seq_length_post):\n",
    "\n",
    "    in_id_post = tf.keras.layers.Input(shape=(max_seq_length_post,), name=\"input_ids_post\")\n",
    "    in_mask_post = tf.keras.layers.Input(shape=(max_seq_length_post,), name=\"input_masks_post\")\n",
    "    in_segment_post = tf.keras.layers.Input(shape=(max_seq_length_post,), name=\"segment_ids_post\")\n",
    "    bert_inputs_post = [in_id_post, in_mask_post, in_segment_post]\n",
    "\n",
    "\n",
    "\n",
    "\n",
    "    post_embed = tf.keras.layers.Embedding(len(tokenizer.vocab), 100, input_length=max_seq_length_post, weights=[glove_word_embedding], trainable=False)(in_id_post)\n",
    "\n",
    "\n",
    "    post_lstm = tf.keras.layers.LSTM(300, dropout=0.2, recurrent_dropout=0.5)(post_embed)\n",
    "\n",
    "\n",
    "    bert_output_post = BertLayer(n_fine_tune_layers=4, pooling=\"mean\")(bert_inputs_post)\n",
    "\n",
    "    cat_output_post = tf.keras.layers.concatenate([bert_output_post, post_lstm], axis=-1)\n",
    "\n",
    "    batched_output_post = tf.keras.layers.BatchNormalization()(cat_output_post)\n",
    "\n",
    "    dense_post = tf.keras.layers.Dense(256, activation='relu')(batched_output_post)\n",
    "\n",
    "\n",
    "    dense = tf.keras.layers.Dense(100, activation='relu')(dense_post)\n",
    "    pred = tf.keras.layers.Dense(1, activation='sigmoid')(dense)\n",
    "\n",
    "    model = tf.keras.models.Model(inputs=[bert_inputs_post], outputs=pred)\n",
    "    print('Model Loaded')\n",
    "    return model\n",
    "\n",
    "def initialize_vars(sess):\n",
    "    sess.run(tf.local_variables_initializer())\n",
    "    sess.run(tf.global_variables_initializer())\n",
    "    sess.run(tf.tables_initializer())\n",
    "    K.set_session(sess)\n",
    "\n",
    "\n",
    "# In[45]:\n",
    "\n",
    "\n",
    "model = build_model(post_max_seq_length)\n",
    "\n",
    "\n",
    "# In[46]:\n",
    "\n",
    "adam = tf.keras.optimizers.Adam(learning_rate=0.0001, beta_1=0.9, beta_2=0.999, epsilon=1e-07)\n",
    "model.compile(loss='mse', optimizer=adam, metrics=['accuracy'])\n",
    "model.summary()\n",
    "\n",
    "\n",
    "# In[47]:\n",
    "\n",
    "\n",
    "train_inputs = [train_input_ids_post, train_input_masks_post, train_segment_ids_post]\n",
    "test_inputs = [test_input_ids_post, test_input_masks_post, test_segment_ids_post]\n",
    "\n",
    "\n",
    "\n"
   ]
  },
  {
   "cell_type": "code",
   "execution_count": 3,
   "metadata": {},
   "outputs": [
    {
     "name": "stdout",
     "output_type": "stream",
     "text": [
      "(3053, 1)\n"
     ]
    }
   ],
   "source": [
    "# print(train_labels_post)\n",
    "print(train_labels_post.shape)"
   ]
  },
  {
   "cell_type": "code",
   "execution_count": 4,
   "metadata": {},
   "outputs": [
    {
     "name": "stdout",
     "output_type": "stream",
     "text": [
      "(764, 1)\n"
     ]
    }
   ],
   "source": [
    "# print(test_labels_post)\n",
    "print(test_labels_post.shape)"
   ]
  },
  {
   "cell_type": "code",
   "execution_count": 5,
   "metadata": {},
   "outputs": [
    {
     "name": "stdout",
     "output_type": "stream",
     "text": [
      "(3, 3053, 210)\n",
      "(3, 764, 210)\n"
     ]
    }
   ],
   "source": [
    "train_inputs = np.array(train_inputs)\n",
    "test_inputs = np.array(test_inputs)\n",
    "print(train_inputs.shape)\n",
    "print(test_inputs.shape)"
   ]
  },
  {
   "cell_type": "code",
   "execution_count": 6,
   "metadata": {},
   "outputs": [
    {
     "name": "stdout",
     "output_type": "stream",
     "text": [
      "(764, 630)\n",
      "(3053, 630)\n"
     ]
    }
   ],
   "source": [
    "train_inputs = train_inputs.reshape(3053,210*3)\n",
    "test_inputs = test_inputs.reshape(764,210*3)\n",
    "print(test_inputs.shape)\n",
    "print(train_inputs.shape)"
   ]
  },
  {
   "cell_type": "code",
   "execution_count": 7,
   "metadata": {},
   "outputs": [
    {
     "name": "stderr",
     "output_type": "stream",
     "text": [
      "C:\\Users\\wwwuj\\Anaconda3\\lib\\site-packages\\sklearn\\neural_network\\multilayer_perceptron.py:921: DataConversionWarning: A column-vector y was passed when a 1d array was expected. Please change the shape of y to (n_samples, ), for example using ravel().\n",
      "  y = column_or_1d(y, warn=True)\n"
     ]
    }
   ],
   "source": [
    "classifier.fit(train_inputs,train_labels_post)\n",
    "prediction_bert = classifier.predict(test_inputs.tolist())"
   ]
  },
  {
   "cell_type": "code",
   "execution_count": 8,
   "metadata": {},
   "outputs": [
    {
     "name": "stdout",
     "output_type": "stream",
     "text": [
      "Classification Report \n",
      "              precision    recall  f1-score   support\n",
      "\n",
      "           0     0.4390    0.4708    0.4543       359\n",
      "           1     0.4987    0.4667    0.4821       405\n",
      "\n",
      "    accuracy                         0.4686       764\n",
      "   macro avg     0.4688    0.4687    0.4682       764\n",
      "weighted avg     0.4706    0.4686    0.4691       764\n",
      "\n"
     ]
    }
   ],
   "source": [
    "rep = classification_report(test_labels_post, prediction_bert, digits=4)\n",
    "print('Classification Report \\n' +str(rep))"
   ]
  },
  {
   "cell_type": "markdown",
   "metadata": {},
   "source": [
    "Average"
   ]
  },
  {
   "cell_type": "code",
   "execution_count": 9,
   "metadata": {},
   "outputs": [
    {
     "name": "stdout",
     "output_type": "stream",
     "text": [
      "Classification Report \n",
      "              precision    recall  f1-score   support\n",
      "\n",
      "           0     0.5492    0.2617    0.3545       405\n",
      "           1     0.4764    0.7577    0.5849       359\n",
      "\n",
      "    accuracy                         0.4948       764\n",
      "   macro avg     0.5128    0.5097    0.4697       764\n",
      "weighted avg     0.5150    0.4948    0.4628       764\n",
      "\n"
     ]
    }
   ],
   "source": [
    "prediction_avg = (prediction_bert + prediction_elmo)/2\n",
    "prediction_avg = [1 if i>=0.5 else 0 for i in prediction_avg]\n",
    "rep = classification_report(test_labela, prediction_avg, digits=4)\n",
    "print('Classification Report \\n' +str(rep))"
   ]
  },
  {
   "cell_type": "code",
   "execution_count": 10,
   "metadata": {},
   "outputs": [
    {
     "name": "stdout",
     "output_type": "stream",
     "text": [
      "Classification Report \n",
      "              precision    recall  f1-score   support\n",
      "\n",
      "           0     0.4508    0.2423    0.3152       359\n",
      "           1     0.5236    0.7383    0.6127       405\n",
      "\n",
      "    accuracy                         0.5052       764\n",
      "   macro avg     0.4872    0.4903    0.4640       764\n",
      "weighted avg     0.4894    0.5052    0.4729       764\n",
      "\n"
     ]
    }
   ],
   "source": [
    "rep = classification_report(test_labels_post, prediction_avg, digits=4)\n",
    "print('Classification Report \\n' +str(rep))"
   ]
  },
  {
   "cell_type": "markdown",
   "metadata": {},
   "source": [
    "Weighted Average"
   ]
  },
  {
   "cell_type": "code",
   "execution_count": 11,
   "metadata": {},
   "outputs": [
    {
     "name": "stdout",
     "output_type": "stream",
     "text": [
      "Classification Report \n",
      "              precision    recall  f1-score   support\n",
      "\n",
      "           0     0.4390    0.4708    0.4543       359\n",
      "           1     0.4987    0.4667    0.4821       405\n",
      "\n",
      "    accuracy                         0.4686       764\n",
      "   macro avg     0.4688    0.4687    0.4682       764\n",
      "weighted avg     0.4706    0.4686    0.4691       764\n",
      "\n"
     ]
    }
   ],
   "source": [
    "prediction_wavg = (prediction_bert*0.6 + prediction_elmo*0.4)\n",
    "# print(prediction_wavg)\n",
    "prediction_wavg = [1 if i>=0.5 else 0 for i in prediction_wavg]\n",
    "# print(prediction_wavg)\n",
    "rep = classification_report(test_labels_post, prediction_wavg, digits=4)\n",
    "print('Classification Report \\n' +str(rep))"
   ]
  },
  {
   "cell_type": "code",
   "execution_count": 12,
   "metadata": {},
   "outputs": [
    {
     "name": "stdout",
     "output_type": "stream",
     "text": [
      "Classification Report \n",
      "              precision    recall  f1-score   support\n",
      "\n",
      "           0     0.5492    0.2617    0.3545       405\n",
      "           1     0.4764    0.7577    0.5849       359\n",
      "\n",
      "    accuracy                         0.4948       764\n",
      "   macro avg     0.5128    0.5097    0.4697       764\n",
      "weighted avg     0.5150    0.4948    0.4628       764\n",
      "\n"
     ]
    }
   ],
   "source": [
    "prediction_wavg = prediction_bert*0.4+prediction_elmo*0.6\n",
    "# print(prediction_wavg)\n",
    "prediction_wavg = [1 if i>=0.5 else 0 for i in prediction_wavg]\n",
    "# print(prediction_wavg)\n",
    "rep = classification_report(test_labela, prediction_avg, digits=4)\n",
    "print('Classification Report \\n' +str(rep))"
   ]
  },
  {
   "cell_type": "code",
   "execution_count": 13,
   "metadata": {},
   "outputs": [
    {
     "name": "stdout",
     "output_type": "stream",
     "text": [
      "Classification Report \n",
      "              precision    recall  f1-score   support\n",
      "\n",
      "           0     0.4919    0.5070    0.4993       359\n",
      "           1     0.5508    0.5358    0.5432       405\n",
      "\n",
      "    accuracy                         0.5223       764\n",
      "   macro avg     0.5213    0.5214    0.5212       764\n",
      "weighted avg     0.5231    0.5223    0.5226       764\n",
      "\n"
     ]
    }
   ],
   "source": [
    "rep = classification_report(test_labels_post, prediction_wavg, digits=4)\n",
    "print('Classification Report \\n' +str(rep))"
   ]
  }
 ],
 "metadata": {
  "kernelspec": {
   "display_name": "Python 3",
   "language": "python",
   "name": "python3"
  },
  "language_info": {
   "codemirror_mode": {
    "name": "ipython",
    "version": 3
   },
   "file_extension": ".py",
   "mimetype": "text/x-python",
   "name": "python",
   "nbconvert_exporter": "python",
   "pygments_lexer": "ipython3",
   "version": "3.7.4"
  }
 },
 "nbformat": 4,
 "nbformat_minor": 2
}

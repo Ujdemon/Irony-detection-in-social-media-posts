{
 "cells": [
  {
   "cell_type": "code",
   "execution_count": 1,
   "metadata": {
    "pycharm": {
     "is_executing": false
    }
   },
   "outputs": [],
   "source": [
    "import os, csv, re, nltk\n",
    "# import preprocessor as p\n"
   ]
  },
  {
   "cell_type": "code",
   "execution_count": 2,
   "metadata": {
    "pycharm": {
     "is_executing": false,
     "name": "#%%\n"
    }
   },
   "outputs": [],
   "source": [
    "def remove_emoji(string):\n",
    "    emoji_pattern = re.compile(\"[\"\n",
    "                               u\"\\U0001F600-\\U0001F64F\"  # emoticons\n",
    "                               u\"\\U0001F300-\\U0001F5FF\"  # symbols & pictographs\n",
    "                               u\"\\U0001F680-\\U0001F6FF\"  # transport & map symbols\n",
    "                               u\"\\U0001F1E0-\\U0001F1FF\"  # flags (iOS)\n",
    "                               u\"\\U00002702-\\U000027B0\"\n",
    "                               u\"\\U000024C2-\\U0001F251\"\n",
    "                               u\"\\U0001f926-\\U0001f937\"\n",
    "                               u'\\U00010000-\\U0010ffff'\n",
    "                               u\"\\u200d\"\n",
    "                               u\"\\u2640-\\u2642\"\n",
    "                               u\"\\u2600-\\u2B55\"\n",
    "                               u\"\\u23cf\"\n",
    "                               u\"\\u23e9\"\n",
    "                               u\"\\u231a\"\n",
    "                               u\"\\u3030\"\n",
    "                               u\"\\ufe0f\"\n",
    "                               \"]+\", flags=re.UNICODE)\n",
    "    return emoji_pattern.sub(r'', string)\n"
   ]
  },
  {
   "cell_type": "code",
   "execution_count": 3,
   "metadata": {
    "pycharm": {
     "is_executing": false,
     "name": "#%%\n"
    }
   },
   "outputs": [
    {
     "name": "stdout",
     "output_type": "stream",
     "text": [
      "C:\\home\\rajesh\\PycharmProjects\\FIRE2019\\HASOC\\Extracted_dataset\\english_dataset\\english_dataset.tsv\n"
     ]
    },
    {
     "ename": "FileNotFoundError",
     "evalue": "[Errno 2] No such file or directory: 'C:\\\\home\\\\rajesh\\\\PycharmProjects\\\\FIRE2019\\\\HASOC\\\\Extracted_dataset\\\\english_dataset\\\\english_dataset.tsv'",
     "output_type": "error",
     "traceback": [
      "\u001b[1;31m---------------------------------------------------------------------------\u001b[0m",
      "\u001b[1;31mFileNotFoundError\u001b[0m                         Traceback (most recent call last)",
      "\u001b[1;32m<ipython-input-3-6f4d2deb1d25>\u001b[0m in \u001b[0;36m<module>\u001b[1;34m\u001b[0m\n\u001b[0;32m      7\u001b[0m \u001b[1;33m\u001b[0m\u001b[0m\n\u001b[0;32m      8\u001b[0m \u001b[0mtext\u001b[0m\u001b[1;33m,\u001b[0m \u001b[0mlabel1\u001b[0m\u001b[1;33m,\u001b[0m \u001b[0mlabel2\u001b[0m\u001b[1;33m,\u001b[0m \u001b[0mlabel3\u001b[0m \u001b[1;33m=\u001b[0m \u001b[1;33m[\u001b[0m\u001b[1;33m]\u001b[0m\u001b[1;33m,\u001b[0m \u001b[1;33m[\u001b[0m\u001b[1;33m]\u001b[0m\u001b[1;33m,\u001b[0m \u001b[1;33m[\u001b[0m\u001b[1;33m]\u001b[0m\u001b[1;33m,\u001b[0m \u001b[1;33m[\u001b[0m\u001b[1;33m]\u001b[0m\u001b[1;33m\u001b[0m\u001b[1;33m\u001b[0m\u001b[0m\n\u001b[1;32m----> 9\u001b[1;33m \u001b[1;32mwith\u001b[0m \u001b[0mopen\u001b[0m\u001b[1;33m(\u001b[0m\u001b[0mos\u001b[0m\u001b[1;33m.\u001b[0m\u001b[0mpath\u001b[0m\u001b[1;33m.\u001b[0m\u001b[0mabspath\u001b[0m\u001b[1;33m(\u001b[0m\u001b[0mtrain_path\u001b[0m\u001b[1;33m)\u001b[0m\u001b[1;33m,\u001b[0m \u001b[1;34m'r'\u001b[0m\u001b[1;33m,\u001b[0m \u001b[0mencoding\u001b[0m\u001b[1;33m=\u001b[0m\u001b[1;34m'utf-8'\u001b[0m\u001b[1;33m)\u001b[0m\u001b[1;32mas\u001b[0m \u001b[0mf\u001b[0m\u001b[1;33m:\u001b[0m\u001b[1;33m\u001b[0m\u001b[1;33m\u001b[0m\u001b[0m\n\u001b[0m\u001b[0;32m     10\u001b[0m     \u001b[0mline_count\u001b[0m \u001b[1;33m=\u001b[0m \u001b[1;36m0\u001b[0m\u001b[1;33m\u001b[0m\u001b[1;33m\u001b[0m\u001b[0m\n\u001b[0;32m     11\u001b[0m     \u001b[0mdata\u001b[0m \u001b[1;33m=\u001b[0m \u001b[0mcsv\u001b[0m\u001b[1;33m.\u001b[0m\u001b[0mreader\u001b[0m\u001b[1;33m(\u001b[0m\u001b[0mf\u001b[0m\u001b[1;33m,\u001b[0m \u001b[0mdelimiter\u001b[0m\u001b[1;33m=\u001b[0m\u001b[1;34m'\\t'\u001b[0m\u001b[1;33m,\u001b[0m \u001b[1;33m)\u001b[0m\u001b[1;33m\u001b[0m\u001b[1;33m\u001b[0m\u001b[0m\n",
      "\u001b[1;31mFileNotFoundError\u001b[0m: [Errno 2] No such file or directory: 'C:\\\\home\\\\rajesh\\\\PycharmProjects\\\\FIRE2019\\\\HASOC\\\\Extracted_dataset\\\\english_dataset\\\\english_dataset.tsv'"
     ]
    }
   ],
   "source": [
    "train_path = os.path.join('/home/rajesh/PycharmProjects/FIRE2019/HASOC/Extracted_dataset/english_dataset', 'english_dataset.tsv')\n",
    "print(os.path.abspath(train_path))\n",
    "\n",
    "eng_stopwords = set(nltk.corpus.stopwords.words(\"english\"))\n",
    "\n",
    "tknzr = nltk.TweetTokenizer(strip_handles=True)\n",
    "\n",
    "text, label1, label2, label3 = [], [], [], []\n",
    "with open(os.path.abspath(train_path), 'r', encoding='utf-8')as f:\n",
    "    line_count = 0\n",
    "    data = csv.reader(f, delimiter='\\t', )\n",
    "    for row in data:\n",
    "        if line_count == 0:\n",
    "            pass\n",
    "        else:\n",
    "            # text_input = remove_emoji(p.tokenize(p.clean(row[1])))\n",
    "            text_input = tknzr.tokenize(row[1].strip())\n",
    "            text_input = remove_emoji(\" \".join([t for t in text_input if not t.startswith('http')]))\n",
    "            text_input = tknzr.tokenize(text_input)\n",
    "            text.append(\" \".join([t for t in text_input if t not in eng_stopwords]))\n",
    "            label1.append(row[2])\n",
    "            label2.append(row[3])\n",
    "            label3.append(row[4])\n",
    "        line_count += 1\n",
    "\n"
   ]
  },
  {
   "cell_type": "code",
   "execution_count": null,
   "metadata": {
    "pycharm": {
     "is_executing": false,
     "name": "#%%\n"
    }
   },
   "outputs": [],
   "source": [
    "print(text[0])\n"
   ]
  },
  {
   "cell_type": "code",
   "execution_count": null,
   "metadata": {
    "pycharm": {
     "is_executing": false,
     "name": "#%%\n"
    }
   },
   "outputs": [],
   "source": [
    "from sklearn.model_selection import train_test_split\n",
    "from sklearn.feature_extraction.text import TfidfVectorizer\n",
    "\n",
    "\n",
    "from sklearn.pipeline import Pipeline\n",
    "from sklearn.model_selection import cross_val_score\n",
    "from sklearn.naive_bayes import MultinomialNB\n",
    "from xgboost import XGBClassifier\n",
    "from sklearn.linear_model import SGDClassifier, LogisticRegression\n",
    "from sklearn.svm import SVC, LinearSVC\n",
    "from sklearn.metrics import accuracy_score, classification_report\n",
    "from sklearn.ensemble import RandomForestClassifier, GradientBoostingClassifier\n",
    "\n",
    "# \n",
    "X_train, X_test, y_train, y_test = train_test_split(text, label1, test_size=0.2)\n",
    "\n",
    "\n",
    "tfidf_transformer = TfidfVectorizer()\n",
    "tfidf_transformer.fit_transform(text)\n",
    "\n",
    "X_train_tfidf = tfidf_transformer.transform(X_train)\n",
    "X_test_tfidf = tfidf_transformer.transform(X_test)\n",
    "\n",
    "print(X_test_tfidf.shape)\n",
    "print(X_train_tfidf.shape)\n",
    "\n",
    "gnb = MultinomialNB()\n",
    "sgd = SGDClassifier(loss='hinge', penalty='l2', alpha=1e-3, max_iter=50, random_state=42)\n",
    "lr = LogisticRegression()\n",
    "lin_svc = SVC(kernel='linear',probability=True)\n",
    "model = XGBClassifier()\n"
   ]
  },
  {
   "cell_type": "code",
   "execution_count": null,
   "metadata": {
    "pycharm": {
     "is_executing": false,
     "name": "#%%\n"
    }
   },
   "outputs": [],
   "source": [
    "gnb.fit(X_train_tfidf, y_train)\n",
    "sgd.fit(X_train_tfidf, y_train)\n",
    "lr.fit(X_train_tfidf, y_train)\n",
    "lin_svc.fit(X_train_tfidf, y_train)\n",
    "model.fit(X_train_tfidf, y_train)\n",
    "\n",
    "\n",
    "pred_gnb = gnb.predict(X_test_tfidf)\n",
    "pred_sgd = sgd.predict(X_test_tfidf)\n",
    "pred_lr = lr.predict(X_test_tfidf)\n",
    "pred_lin_svc = lin_svc.predict(X_test_tfidf)\n",
    "pred_model = model.predict(X_test_tfidf)\n",
    "\n",
    "# print(\"Multinomial Naive-Bayes accuracy : \",accuracy_score(y_test, pred_gnb, normalize = True))\n",
    "# print('\\n')\n",
    "# print(\"Multinomial Naive-Bayes Classification Report : \",classification_report(y_test, pred_gnb))\n",
    "# \n",
    "# print(\"SGD accuracy : \",accuracy_score(y_test, pred_sgd, normalize = True))\n",
    "# print('\\n')\n",
    "# print(\"SGD Classification Report : \",classification_report(y_test, pred_sgd))\n",
    "# \n",
    "# print(\"LR accuracy : \",accuracy_score(y_test, pred_lr, normalize = True))\n",
    "# print('\\n')\n",
    "# print(\"LR Classification Report : \",classification_report(y_test, pred_lr))\n",
    "\n",
    "print(\"LinSVC accuracy : \",accuracy_score(y_test, pred_lin_svc, normalize = True))\n",
    "print('\\n')\n",
    "print(\"LinSVC Classification Report : \",classification_report(y_test, pred_lin_svc))\n",
    "\n",
    "print(\"XGD accuracy : \",accuracy_score(y_test, pred_model, normalize = True))\n",
    "print('\\n')\n",
    "print(\"XGD Classification Report : \",classification_report(y_test, pred_model))\n",
    "\n",
    "\n",
    "\n"
   ]
  },
  {
   "cell_type": "code",
   "execution_count": null,
   "metadata": {
    "pycharm": {
     "is_executing": false,
     "name": "#%%\n"
    }
   },
   "outputs": [],
   "source": [
    "import pandas as pd\n",
    "test_path = os.path.join('/home/rajesh/PycharmProjects/FIRE2019/HASOC/hasoc2019_en_test.tsv')\n",
    "\n",
    "with open(test_path, 'r') as f1:\n",
    "    total_lines = f1.readlines()\n",
    "\n",
    "text_id_list = [t.split('\\t')[0] for t in total_lines]\n",
    "text__list = [t.split('\\t')[1].strip('\\n') for t in total_lines]\n",
    "\n",
    "_text_list = []\n",
    "for te in text__list:\n",
    "    text_input = tknzr.tokenize(te.strip())\n",
    "    text_input = remove_emoji(\" \".join([t for t in text_input if not t.startswith('http')]))\n",
    "    text_input = tknzr.tokenize(text_input)\n",
    "    _text_list.append(\" \".join([t for t in text_input if t not in eng_stopwords]))\n"
   ]
  },
  {
   "cell_type": "code",
   "execution_count": null,
   "metadata": {
    "pycharm": {
     "is_executing": false,
     "name": "#%%\n"
    }
   },
   "outputs": [],
   "source": [
    "import numpy as np\n",
    "\n",
    "X_test_ = tfidf_transformer.transform(np.array(_text_list))\n",
    "xgd_predic_ = model.predict(X_test_)\n",
    "svc_predic_ = lin_svc.predict(X_test_)"
   ]
  },
  {
   "cell_type": "code",
   "execution_count": null,
   "metadata": {
    "pycharm": {
     "is_executing": false
    }
   },
   "outputs": [],
   "source": [
    "print(xgd_predic_)\n",
    "print(svc_predic_)"
   ]
  },
  {
   "cell_type": "code",
   "execution_count": null,
   "metadata": {
    "pycharm": {
     "is_executing": false
    }
   },
   "outputs": [],
   "source": [
    "with open('HASCO_level1_svc.csv', 'w') as f1:\n",
    "    for idx, p in enumerate(svc_predic_):\n",
    "        f1.write(text_id_list[idx]+','+str(p))\n",
    "        f1.write('\\n')"
   ]
  },
  {
   "cell_type": "code",
   "execution_count": null,
   "metadata": {},
   "outputs": [],
   "source": []
  }
 ],
 "metadata": {
  "kernelspec": {
   "display_name": "Python 3",
   "language": "python",
   "name": "python3"
  },
  "language_info": {
   "codemirror_mode": {
    "name": "ipython",
    "version": 3
   },
   "file_extension": ".py",
   "mimetype": "text/x-python",
   "name": "python",
   "nbconvert_exporter": "python",
   "pygments_lexer": "ipython3",
   "version": "3.7.3"
  },
  "pycharm": {
   "stem_cell": {
    "cell_type": "raw",
    "metadata": {
     "collapsed": false
    },
    "source": []
   }
  }
 },
 "nbformat": 4,
 "nbformat_minor": 1
}
